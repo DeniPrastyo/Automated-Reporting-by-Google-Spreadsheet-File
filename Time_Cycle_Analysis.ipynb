{
  "cells": [
    {
      "cell_type": "markdown",
      "metadata": {
        "id": "xW4mEV6pir0q"
      },
      "source": [
        "# **1. Loading Data & Pre-process**"
      ]
    },
    {
      "cell_type": "code",
      "execution_count": null,
      "metadata": {
        "id": "B5g0GuCpdeaf",
        "colab": {
          "base_uri": "https://localhost:8080/"
        },
        "outputId": "6f20137d-5e85-4b22-c825-275ef5e3d173"
      },
      "outputs": [
        {
          "output_type": "stream",
          "name": "stdout",
          "text": [
            "Mounted at /content/drive\n"
          ]
        }
      ],
      "source": [
        "from google.colab import drive\n",
        "import pandas as pd\n",
        "import numpy as np\n",
        "\n",
        "drive.mount('/content/drive')"
      ]
    },
    {
      "cell_type": "code",
      "execution_count": null,
      "metadata": {
        "id": "om9zXtoohnwI"
      },
      "outputs": [],
      "source": [
        "from pydrive.auth import GoogleAuth\n",
        "from pydrive.drive import GoogleDrive\n",
        "from google.colab import auth\n",
        "from oauth2client.client import GoogleCredentials\n",
        "\n",
        "auth.authenticate_user()\n",
        "gauth = GoogleAuth()\n",
        "gauth.credentials = GoogleCredentials.get_application_default()\n",
        "drive = GoogleDrive(gauth)"
      ]
    },
    {
      "cell_type": "code",
      "execution_count": null,
      "metadata": {
        "id": "KHhRFOy6oBoT"
      },
      "outputs": [],
      "source": [
        "from google.colab import auth\n",
        "auth.authenticate_user()\n",
        "\n",
        "import gspread\n",
        "from google.auth import default\n",
        "creds, _ = default()\n",
        "\n",
        "gc = gspread.authorize(creds)"
      ]
    },
    {
      "cell_type": "markdown",
      "metadata": {
        "id": "q0xNsLAtnt1g"
      },
      "source": [
        "## **1.1 Data Executed**"
      ]
    },
    {
      "cell_type": "code",
      "execution_count": null,
      "metadata": {
        "id": "dwEH4KZonRF8"
      },
      "outputs": [],
      "source": [
        "Data_exe = gc.open_by_key('1ewPVHJgoQI2fEOgTG3BHAEmgnSE1bCiDADnxr-xFmG0').worksheet (\"Executed Contract\")\n",
        "Data_exe = pd.DataFrame (Data_exe.get_all_records())\n",
        "Data_exe = Data_exe.replace(',','.',regex = True)"
      ]
    },
    {
      "cell_type": "code",
      "execution_count": null,
      "metadata": {
        "colab": {
          "base_uri": "https://localhost:8080/",
          "height": 384
        },
        "id": "Aftf4yEpHBzB",
        "outputId": "1f490f1d-f00a-42cf-f6af-25af3216dddf"
      },
      "outputs": [
        {
          "output_type": "execute_result",
          "data": {
            "text/plain": [
              "                  Agreement Code  \\\n",
              "0  DistributionAgreement_LGL_115   \n",
              "1  DistributionAgreement_LGL_117   \n",
              "\n",
              "                                      Agreement Name  Primary Owner  \\\n",
              "0  AMANDEMEN I ATAS PERJANJIAN PASOKAN NITROGEN CAIR     Joshua AGI   \n",
              "1                  ADDENDUM 1 - PENAMBAHAN PERALATAN  Elvira Amanda   \n",
              "\n",
              "  Created Date          Parent Agreement Code  \\\n",
              "0     1/5/2022  DistributionAgreement_LGL_461   \n",
              "1    1/12/2022  DistributionAgreement_LGL_927   \n",
              "\n",
              "                                   Organization Unit Execution Date  \\\n",
              "0  /ptsamator/sales dept/sales west region/west c...      3/15/2022   \n",
              "1  /ptsamator/sales dept/sales east region/east java       3/8/2022   \n",
              "\n",
              "   Total Duration  Draft Duration  Waiting For Approval Duration  \\\n",
              "0           68.89             0.0                           7.01   \n",
              "1           54.74             0.0                           0.04   \n",
              "\n",
              "   Approved Duration  Waiting For Internal Signature Duration  \\\n",
              "0              41.78                                      0.0   \n",
              "1               0.00                                     54.7   \n",
              "\n",
              "   Waiting For External Signature Duration  On Hold Duration  \\\n",
              "0                                     20.1                 0   \n",
              "1                                      0.0                 0   \n",
              "\n",
              "   Cancelled Duration  \n",
              "0                   0  \n",
              "1                   0  "
            ],
            "text/html": [
              "\n",
              "  <div id=\"df-b8b8002a-56e0-49ed-91a7-733c3001be2c\">\n",
              "    <div class=\"colab-df-container\">\n",
              "      <div>\n",
              "<style scoped>\n",
              "    .dataframe tbody tr th:only-of-type {\n",
              "        vertical-align: middle;\n",
              "    }\n",
              "\n",
              "    .dataframe tbody tr th {\n",
              "        vertical-align: top;\n",
              "    }\n",
              "\n",
              "    .dataframe thead th {\n",
              "        text-align: right;\n",
              "    }\n",
              "</style>\n",
              "<table border=\"1\" class=\"dataframe\">\n",
              "  <thead>\n",
              "    <tr style=\"text-align: right;\">\n",
              "      <th></th>\n",
              "      <th>Agreement Code</th>\n",
              "      <th>Agreement Name</th>\n",
              "      <th>Primary Owner</th>\n",
              "      <th>Created Date</th>\n",
              "      <th>Parent Agreement Code</th>\n",
              "      <th>Organization Unit</th>\n",
              "      <th>Execution Date</th>\n",
              "      <th>Total Duration</th>\n",
              "      <th>Draft Duration</th>\n",
              "      <th>Waiting For Approval Duration</th>\n",
              "      <th>Approved Duration</th>\n",
              "      <th>Waiting For Internal Signature Duration</th>\n",
              "      <th>Waiting For External Signature Duration</th>\n",
              "      <th>On Hold Duration</th>\n",
              "      <th>Cancelled Duration</th>\n",
              "    </tr>\n",
              "  </thead>\n",
              "  <tbody>\n",
              "    <tr>\n",
              "      <th>0</th>\n",
              "      <td>DistributionAgreement_LGL_115</td>\n",
              "      <td>AMANDEMEN I ATAS PERJANJIAN PASOKAN NITROGEN CAIR</td>\n",
              "      <td>Joshua AGI</td>\n",
              "      <td>1/5/2022</td>\n",
              "      <td>DistributionAgreement_LGL_461</td>\n",
              "      <td>/ptsamator/sales dept/sales west region/west c...</td>\n",
              "      <td>3/15/2022</td>\n",
              "      <td>68.89</td>\n",
              "      <td>0.0</td>\n",
              "      <td>7.01</td>\n",
              "      <td>41.78</td>\n",
              "      <td>0.0</td>\n",
              "      <td>20.1</td>\n",
              "      <td>0</td>\n",
              "      <td>0</td>\n",
              "    </tr>\n",
              "    <tr>\n",
              "      <th>1</th>\n",
              "      <td>DistributionAgreement_LGL_117</td>\n",
              "      <td>ADDENDUM 1 - PENAMBAHAN PERALATAN</td>\n",
              "      <td>Elvira Amanda</td>\n",
              "      <td>1/12/2022</td>\n",
              "      <td>DistributionAgreement_LGL_927</td>\n",
              "      <td>/ptsamator/sales dept/sales east region/east java</td>\n",
              "      <td>3/8/2022</td>\n",
              "      <td>54.74</td>\n",
              "      <td>0.0</td>\n",
              "      <td>0.04</td>\n",
              "      <td>0.00</td>\n",
              "      <td>54.7</td>\n",
              "      <td>0.0</td>\n",
              "      <td>0</td>\n",
              "      <td>0</td>\n",
              "    </tr>\n",
              "  </tbody>\n",
              "</table>\n",
              "</div>\n",
              "      <button class=\"colab-df-convert\" onclick=\"convertToInteractive('df-b8b8002a-56e0-49ed-91a7-733c3001be2c')\"\n",
              "              title=\"Convert this dataframe to an interactive table.\"\n",
              "              style=\"display:none;\">\n",
              "        \n",
              "  <svg xmlns=\"http://www.w3.org/2000/svg\" height=\"24px\"viewBox=\"0 0 24 24\"\n",
              "       width=\"24px\">\n",
              "    <path d=\"M0 0h24v24H0V0z\" fill=\"none\"/>\n",
              "    <path d=\"M18.56 5.44l.94 2.06.94-2.06 2.06-.94-2.06-.94-.94-2.06-.94 2.06-2.06.94zm-11 1L8.5 8.5l.94-2.06 2.06-.94-2.06-.94L8.5 2.5l-.94 2.06-2.06.94zm10 10l.94 2.06.94-2.06 2.06-.94-2.06-.94-.94-2.06-.94 2.06-2.06.94z\"/><path d=\"M17.41 7.96l-1.37-1.37c-.4-.4-.92-.59-1.43-.59-.52 0-1.04.2-1.43.59L10.3 9.45l-7.72 7.72c-.78.78-.78 2.05 0 2.83L4 21.41c.39.39.9.59 1.41.59.51 0 1.02-.2 1.41-.59l7.78-7.78 2.81-2.81c.8-.78.8-2.07 0-2.86zM5.41 20L4 18.59l7.72-7.72 1.47 1.35L5.41 20z\"/>\n",
              "  </svg>\n",
              "      </button>\n",
              "      \n",
              "  <style>\n",
              "    .colab-df-container {\n",
              "      display:flex;\n",
              "      flex-wrap:wrap;\n",
              "      gap: 12px;\n",
              "    }\n",
              "\n",
              "    .colab-df-convert {\n",
              "      background-color: #E8F0FE;\n",
              "      border: none;\n",
              "      border-radius: 50%;\n",
              "      cursor: pointer;\n",
              "      display: none;\n",
              "      fill: #1967D2;\n",
              "      height: 32px;\n",
              "      padding: 0 0 0 0;\n",
              "      width: 32px;\n",
              "    }\n",
              "\n",
              "    .colab-df-convert:hover {\n",
              "      background-color: #E2EBFA;\n",
              "      box-shadow: 0px 1px 2px rgba(60, 64, 67, 0.3), 0px 1px 3px 1px rgba(60, 64, 67, 0.15);\n",
              "      fill: #174EA6;\n",
              "    }\n",
              "\n",
              "    [theme=dark] .colab-df-convert {\n",
              "      background-color: #3B4455;\n",
              "      fill: #D2E3FC;\n",
              "    }\n",
              "\n",
              "    [theme=dark] .colab-df-convert:hover {\n",
              "      background-color: #434B5C;\n",
              "      box-shadow: 0px 1px 3px 1px rgba(0, 0, 0, 0.15);\n",
              "      filter: drop-shadow(0px 1px 2px rgba(0, 0, 0, 0.3));\n",
              "      fill: #FFFFFF;\n",
              "    }\n",
              "  </style>\n",
              "\n",
              "      <script>\n",
              "        const buttonEl =\n",
              "          document.querySelector('#df-b8b8002a-56e0-49ed-91a7-733c3001be2c button.colab-df-convert');\n",
              "        buttonEl.style.display =\n",
              "          google.colab.kernel.accessAllowed ? 'block' : 'none';\n",
              "\n",
              "        async function convertToInteractive(key) {\n",
              "          const element = document.querySelector('#df-b8b8002a-56e0-49ed-91a7-733c3001be2c');\n",
              "          const dataTable =\n",
              "            await google.colab.kernel.invokeFunction('convertToInteractive',\n",
              "                                                     [key], {});\n",
              "          if (!dataTable) return;\n",
              "\n",
              "          const docLinkHtml = 'Like what you see? Visit the ' +\n",
              "            '<a target=\"_blank\" href=https://colab.research.google.com/notebooks/data_table.ipynb>data table notebook</a>'\n",
              "            + ' to learn more about interactive tables.';\n",
              "          element.innerHTML = '';\n",
              "          dataTable['output_type'] = 'display_data';\n",
              "          await google.colab.output.renderOutput(dataTable, element);\n",
              "          const docLink = document.createElement('div');\n",
              "          docLink.innerHTML = docLinkHtml;\n",
              "          element.appendChild(docLink);\n",
              "        }\n",
              "      </script>\n",
              "    </div>\n",
              "  </div>\n",
              "  "
            ]
          },
          "metadata": {},
          "execution_count": 6
        }
      ],
      "source": [
        "Data_exe.head(2)"
      ]
    },
    {
      "cell_type": "markdown",
      "metadata": {
        "id": "HACxOvFKTlCO"
      },
      "source": [
        "**Pre-process**"
      ]
    },
    {
      "cell_type": "code",
      "execution_count": null,
      "metadata": {
        "id": "ORp0Pp3YTVHP"
      },
      "outputs": [],
      "source": [
        "Data_exe['Amendment'] = Data_exe['Agreement Code'].str.split(\"_\").str[0]\n",
        "Data_exe['Amendment'] = Data_exe['Amendment'].str.split(\"-\").str[0]\n",
        "\n",
        "\n",
        "mid = Data_exe['Amendment']\n",
        "Data_exe.drop(labels=['Amendment'], axis=1,inplace = True)\n",
        "Data_exe.insert(2, 'Amendment', mid)\n"
      ]
    },
    {
      "cell_type": "code",
      "source": [
        "Data_exe.head(1)"
      ],
      "metadata": {
        "colab": {
          "base_uri": "https://localhost:8080/",
          "height": 301
        },
        "id": "XFiRsGEFsAe7",
        "outputId": "6f5b4a40-3aca-4d27-fc3e-117ac007b79d"
      },
      "execution_count": null,
      "outputs": [
        {
          "output_type": "execute_result",
          "data": {
            "text/plain": [
              "                  Agreement Code  \\\n",
              "0  DistributionAgreement_LGL_115   \n",
              "\n",
              "                                      Agreement Name              Amendment  \\\n",
              "0  AMANDEMEN I ATAS PERJANJIAN PASOKAN NITROGEN CAIR  DistributionAgreement   \n",
              "\n",
              "  Primary Owner Created Date          Parent Agreement Code  \\\n",
              "0    Joshua AGI     1/5/2022  DistributionAgreement_LGL_461   \n",
              "\n",
              "                                   Organization Unit Execution Date  \\\n",
              "0  /ptsamator/sales dept/sales west region/west c...      3/15/2022   \n",
              "\n",
              "   Total Duration  Draft Duration  Waiting For Approval Duration  \\\n",
              "0           68.89             0.0                           7.01   \n",
              "\n",
              "   Approved Duration  Waiting For Internal Signature Duration  \\\n",
              "0              41.78                                      0.0   \n",
              "\n",
              "   Waiting For External Signature Duration  On Hold Duration  \\\n",
              "0                                     20.1                 0   \n",
              "\n",
              "   Cancelled Duration  \n",
              "0                   0  "
            ],
            "text/html": [
              "\n",
              "  <div id=\"df-c3f24b3b-2ebe-4cb2-b13f-41d020a705f6\">\n",
              "    <div class=\"colab-df-container\">\n",
              "      <div>\n",
              "<style scoped>\n",
              "    .dataframe tbody tr th:only-of-type {\n",
              "        vertical-align: middle;\n",
              "    }\n",
              "\n",
              "    .dataframe tbody tr th {\n",
              "        vertical-align: top;\n",
              "    }\n",
              "\n",
              "    .dataframe thead th {\n",
              "        text-align: right;\n",
              "    }\n",
              "</style>\n",
              "<table border=\"1\" class=\"dataframe\">\n",
              "  <thead>\n",
              "    <tr style=\"text-align: right;\">\n",
              "      <th></th>\n",
              "      <th>Agreement Code</th>\n",
              "      <th>Agreement Name</th>\n",
              "      <th>Amendment</th>\n",
              "      <th>Primary Owner</th>\n",
              "      <th>Created Date</th>\n",
              "      <th>Parent Agreement Code</th>\n",
              "      <th>Organization Unit</th>\n",
              "      <th>Execution Date</th>\n",
              "      <th>Total Duration</th>\n",
              "      <th>Draft Duration</th>\n",
              "      <th>Waiting For Approval Duration</th>\n",
              "      <th>Approved Duration</th>\n",
              "      <th>Waiting For Internal Signature Duration</th>\n",
              "      <th>Waiting For External Signature Duration</th>\n",
              "      <th>On Hold Duration</th>\n",
              "      <th>Cancelled Duration</th>\n",
              "    </tr>\n",
              "  </thead>\n",
              "  <tbody>\n",
              "    <tr>\n",
              "      <th>0</th>\n",
              "      <td>DistributionAgreement_LGL_115</td>\n",
              "      <td>AMANDEMEN I ATAS PERJANJIAN PASOKAN NITROGEN CAIR</td>\n",
              "      <td>DistributionAgreement</td>\n",
              "      <td>Joshua AGI</td>\n",
              "      <td>1/5/2022</td>\n",
              "      <td>DistributionAgreement_LGL_461</td>\n",
              "      <td>/ptsamator/sales dept/sales west region/west c...</td>\n",
              "      <td>3/15/2022</td>\n",
              "      <td>68.89</td>\n",
              "      <td>0.0</td>\n",
              "      <td>7.01</td>\n",
              "      <td>41.78</td>\n",
              "      <td>0.0</td>\n",
              "      <td>20.1</td>\n",
              "      <td>0</td>\n",
              "      <td>0</td>\n",
              "    </tr>\n",
              "  </tbody>\n",
              "</table>\n",
              "</div>\n",
              "      <button class=\"colab-df-convert\" onclick=\"convertToInteractive('df-c3f24b3b-2ebe-4cb2-b13f-41d020a705f6')\"\n",
              "              title=\"Convert this dataframe to an interactive table.\"\n",
              "              style=\"display:none;\">\n",
              "        \n",
              "  <svg xmlns=\"http://www.w3.org/2000/svg\" height=\"24px\"viewBox=\"0 0 24 24\"\n",
              "       width=\"24px\">\n",
              "    <path d=\"M0 0h24v24H0V0z\" fill=\"none\"/>\n",
              "    <path d=\"M18.56 5.44l.94 2.06.94-2.06 2.06-.94-2.06-.94-.94-2.06-.94 2.06-2.06.94zm-11 1L8.5 8.5l.94-2.06 2.06-.94-2.06-.94L8.5 2.5l-.94 2.06-2.06.94zm10 10l.94 2.06.94-2.06 2.06-.94-2.06-.94-.94-2.06-.94 2.06-2.06.94z\"/><path d=\"M17.41 7.96l-1.37-1.37c-.4-.4-.92-.59-1.43-.59-.52 0-1.04.2-1.43.59L10.3 9.45l-7.72 7.72c-.78.78-.78 2.05 0 2.83L4 21.41c.39.39.9.59 1.41.59.51 0 1.02-.2 1.41-.59l7.78-7.78 2.81-2.81c.8-.78.8-2.07 0-2.86zM5.41 20L4 18.59l7.72-7.72 1.47 1.35L5.41 20z\"/>\n",
              "  </svg>\n",
              "      </button>\n",
              "      \n",
              "  <style>\n",
              "    .colab-df-container {\n",
              "      display:flex;\n",
              "      flex-wrap:wrap;\n",
              "      gap: 12px;\n",
              "    }\n",
              "\n",
              "    .colab-df-convert {\n",
              "      background-color: #E8F0FE;\n",
              "      border: none;\n",
              "      border-radius: 50%;\n",
              "      cursor: pointer;\n",
              "      display: none;\n",
              "      fill: #1967D2;\n",
              "      height: 32px;\n",
              "      padding: 0 0 0 0;\n",
              "      width: 32px;\n",
              "    }\n",
              "\n",
              "    .colab-df-convert:hover {\n",
              "      background-color: #E2EBFA;\n",
              "      box-shadow: 0px 1px 2px rgba(60, 64, 67, 0.3), 0px 1px 3px 1px rgba(60, 64, 67, 0.15);\n",
              "      fill: #174EA6;\n",
              "    }\n",
              "\n",
              "    [theme=dark] .colab-df-convert {\n",
              "      background-color: #3B4455;\n",
              "      fill: #D2E3FC;\n",
              "    }\n",
              "\n",
              "    [theme=dark] .colab-df-convert:hover {\n",
              "      background-color: #434B5C;\n",
              "      box-shadow: 0px 1px 3px 1px rgba(0, 0, 0, 0.15);\n",
              "      filter: drop-shadow(0px 1px 2px rgba(0, 0, 0, 0.3));\n",
              "      fill: #FFFFFF;\n",
              "    }\n",
              "  </style>\n",
              "\n",
              "      <script>\n",
              "        const buttonEl =\n",
              "          document.querySelector('#df-c3f24b3b-2ebe-4cb2-b13f-41d020a705f6 button.colab-df-convert');\n",
              "        buttonEl.style.display =\n",
              "          google.colab.kernel.accessAllowed ? 'block' : 'none';\n",
              "\n",
              "        async function convertToInteractive(key) {\n",
              "          const element = document.querySelector('#df-c3f24b3b-2ebe-4cb2-b13f-41d020a705f6');\n",
              "          const dataTable =\n",
              "            await google.colab.kernel.invokeFunction('convertToInteractive',\n",
              "                                                     [key], {});\n",
              "          if (!dataTable) return;\n",
              "\n",
              "          const docLinkHtml = 'Like what you see? Visit the ' +\n",
              "            '<a target=\"_blank\" href=https://colab.research.google.com/notebooks/data_table.ipynb>data table notebook</a>'\n",
              "            + ' to learn more about interactive tables.';\n",
              "          element.innerHTML = '';\n",
              "          dataTable['output_type'] = 'display_data';\n",
              "          await google.colab.output.renderOutput(dataTable, element);\n",
              "          const docLink = document.createElement('div');\n",
              "          docLink.innerHTML = docLinkHtml;\n",
              "          element.appendChild(docLink);\n",
              "        }\n",
              "      </script>\n",
              "    </div>\n",
              "  </div>\n",
              "  "
            ]
          },
          "metadata": {},
          "execution_count": 8
        }
      ]
    },
    {
      "cell_type": "code",
      "execution_count": null,
      "metadata": {
        "colab": {
          "background_save": true
        },
        "id": "O_1keNFjbxgh"
      },
      "outputs": [],
      "source": [
        "Data_exe['Created Month'] = pd.DatetimeIndex(Data_exe['Created Date']).month\n",
        "\n",
        "def monthly (itera) :\n",
        "  if itera['Created Month'] == 1 :\n",
        "    return \"January\"\n",
        "  elif itera ['Created Month'] == 2 :\n",
        "    return \"February\"\n",
        "  elif itera ['Created Month'] == 3 :\n",
        "    return \"March\"\n",
        "  elif itera ['Created Month'] == 4 :\n",
        "    return \"April\"\n",
        "  elif itera ['Created Month'] == 5 :\n",
        "    return \"May\"\n",
        "  elif itera ['Created Month'] == 6 :\n",
        "    return \"June\"  \n",
        "  elif itera ['Created Month'] == 7 :\n",
        "    return \"July\"\n",
        "  elif itera ['Created Month'] == 8 :\n",
        "    return \"August\"\n",
        "  elif itera ['Created Month'] == 9 :\n",
        "    return \"September\"\n",
        "  elif itera ['Created Month'] == 10 :\n",
        "    return \"October\"\n",
        "  elif itera ['Created Month'] == 11 :\n",
        "    return \"November\"\n",
        "  elif itera ['Created Month'] == 12:\n",
        "    return \"December\"\n",
        "  else :\n",
        "    return \"-\"\n",
        "\n",
        "Data_exe['Created Month'] = Data_exe.apply(monthly,axis =1)\n",
        "\n",
        "mid2 = Data_exe['Created Month']\n",
        "Data_exe.drop(labels=['Created Month'], axis=1,inplace = True)\n",
        "Data_exe.insert(5, 'Created Month', mid2)"
      ]
    },
    {
      "cell_type": "code",
      "execution_count": null,
      "metadata": {
        "colab": {
          "background_save": true
        },
        "id": "J1zKueYfjgPX"
      },
      "outputs": [],
      "source": [
        "def condition (iterasi) :\n",
        "  if iterasi ['Parent Agreement Code'] == \" \" :\n",
        "    return \"Main Contract\"\n",
        "  else :\n",
        "    return \"Amendment\"\n",
        "\n",
        "Data_exe ['Amendment (Main Contract/Amendment)'] = Data_exe.apply(condition,axis =1 )"
      ]
    },
    {
      "cell_type": "code",
      "execution_count": null,
      "metadata": {
        "colab": {
          "background_save": true
        },
        "id": "COKCWiWJuHsY"
      },
      "outputs": [],
      "source": [
        "Data_clas= Data_exe[['Amendment','Amendment (Main Contract/Amendment)']]\n",
        "Data_exe['new'] = Data_clas.fillna(' ').sum(axis=1)"
      ]
    },
    {
      "cell_type": "code",
      "execution_count": null,
      "metadata": {
        "colab": {
          "background_save": true
        },
        "id": "wzlRoZ78mlcm"
      },
      "outputs": [],
      "source": [
        "def classif (iterate) :\n",
        "  if iterate ['Amendment (Main Contract/Amendment)']== \"Main Contract\" :\n",
        "    return iterate['Amendment']\n",
        "  else :\n",
        "    return iterate['new'] \n",
        "\n",
        "Data_exe['Classification'] = Data_exe.apply(classif, axis =1)\n",
        "Data_exe.drop(['new'],axis=1,inplace=True)"
      ]
    },
    {
      "cell_type": "markdown",
      "metadata": {
        "id": "U_DdzrmJv967"
      },
      "source": [
        "## **1.2 Data Unxecuted**"
      ]
    },
    {
      "cell_type": "code",
      "execution_count": null,
      "metadata": {
        "colab": {
          "background_save": true
        },
        "id": "A5V9I0DPXNPM"
      },
      "outputs": [],
      "source": [
        "from datetime import datetime\n",
        "\n",
        "today_unex = pd.Timestamp.now('Asia/Bangkok')\n",
        "today_unex = pd.to_datetime(today_unex.strftime('%Y-%m-%d'))"
      ]
    },
    {
      "cell_type": "code",
      "execution_count": null,
      "metadata": {
        "colab": {
          "background_save": true
        },
        "id": "CYAWoqVddmtp"
      },
      "outputs": [],
      "source": [
        "from gspread.models import Worksheet\n",
        "Data_colum = pd.read_excel('/content/drive/MyDrive/Google Collaboration/Cycle Time Analysis/Cycle Time/220301 Cycle Time Analysis.xlsx',sheet_name = 'Raw Contract 2022')\n",
        "Data_unex = pd.read_excel('/content/drive/MyDrive/Google Collaboration/Cycle Time Analysis/Cycle Time/Agreement.xlsx')\n",
        "Data_unex_raw = pd.read_excel('/content/drive/MyDrive/Google Collaboration/Cycle Time Analysis/Cycle Time/Agreement.xlsx')\n",
        "\n",
        "Columns = (Data_colum.columns) & (Data_unex.columns)\n",
        "Data_unex = Data_unex[Columns]\n",
        "Data_unex_raw = Data_unex_raw[Columns]"
      ]
    },
    {
      "cell_type": "code",
      "execution_count": null,
      "metadata": {
        "colab": {
          "background_save": true
        },
        "id": "Mln79aj_eDeZ"
      },
      "outputs": [],
      "source": [
        "Column = ['Created Date',\n",
        "         'Effective Date',\n",
        "          'Expiration Date'\n",
        "        ]\n",
        "          \n",
        "Data_unex[Column] = Data_unex[Column].astype('datetime64[ns]')\n",
        "Data_unex['Created Date'] = pd.to_datetime(Data_unex['Created Date'] , format='%Y-%m-%d')\n",
        "Data_unex = Data_unex.loc[(Data_unex['Created Date'] >= '2022-01-01')\n",
        "                     & (Data_unex['Created Date'] < today_unex )]"
      ]
    },
    {
      "cell_type": "markdown",
      "metadata": {
        "id": "xSx3x0qy8UZl"
      },
      "source": [
        "## **1.3 Remove Trial Agreement**"
      ]
    },
    {
      "cell_type": "code",
      "execution_count": null,
      "metadata": {
        "colab": {
          "background_save": true
        },
        "id": "oa8eW2qk7HkL"
      },
      "outputs": [],
      "source": [
        "list_str = \"Coba\",\"coba\",\"Test\",\"test\", \"tes\"\n",
        "for i in list_str:\n",
        "  Data_unex = Data_unex[Data_unex['Agreement Title'].str.contains(i)==False]"
      ]
    },
    {
      "cell_type": "markdown",
      "metadata": {
        "id": "Z129HBr2jFYN"
      },
      "source": [
        "# **2. Operation of Cycle Time**"
      ]
    },
    {
      "cell_type": "code",
      "execution_count": null,
      "metadata": {
        "colab": {
          "background_save": true
        },
        "id": "b9m06SoRjNsb"
      },
      "outputs": [],
      "source": [
        "Data_ops = Data_unex.copy()"
      ]
    },
    {
      "cell_type": "markdown",
      "metadata": {
        "id": "d_y9e1N9jlln"
      },
      "source": [
        "## 2.1 Execution Date"
      ]
    },
    {
      "cell_type": "code",
      "execution_count": null,
      "metadata": {
        "colab": {
          "background_save": true
        },
        "id": "IY1lhWclyrX6"
      },
      "outputs": [],
      "source": [
        "Data_ex2 = Data_exe[['Agreement Code','Execution Date']]\n",
        "Data_ex2['Agreement Code'] = Data_ex2['Agreement Code'].replace('-','_',regex=True) \n",
        "Data_ops['Agreement Code'] = Data_ops['Agreement Code'].replace('-','_',regex=True)"
      ]
    },
    {
      "cell_type": "code",
      "execution_count": null,
      "metadata": {
        "colab": {
          "background_save": true
        },
        "id": "HAwTMYv5fbxL"
      },
      "outputs": [],
      "source": [
        "Data_ops = pd.merge(Data_ops,Data_ex2,on = 'Agreement Code', how = 'left')"
      ]
    },
    {
      "cell_type": "markdown",
      "metadata": {
        "id": "GNO8Y3Bej5B_"
      },
      "source": [
        "## 2.2 Agreement Code Check \n",
        "(Exclude NDA)"
      ]
    },
    {
      "cell_type": "code",
      "execution_count": null,
      "metadata": {
        "colab": {
          "background_save": true
        },
        "id": "rOW7t9ogvnta"
      },
      "outputs": [],
      "source": [
        "Data_ops['Code_Check'] = Data_ops['Agreement Code'].str[:3]\n",
        "\n",
        "def Agreement_code (i): \n",
        "  if i['Code_Check']==\"Non\" :\n",
        "    return \"Exclude\"\n",
        "  else :\n",
        "    return \"Include\" \n",
        "\n",
        "Data_ops['Agreement Code Check'] = Data_ops.apply(Agreement_code,axis = 1)\n",
        "Data_ops = Data_ops.drop(columns = 'Code_Check')\n",
        "Data_ops"
      ]
    },
    {
      "cell_type": "markdown",
      "metadata": {
        "id": "fhIN7cwakqHI"
      },
      "source": [
        "## 2.3 Superseded Check\n"
      ]
    },
    {
      "cell_type": "code",
      "execution_count": null,
      "metadata": {
        "colab": {
          "background_save": true
        },
        "id": "S3dmENdg40Pi"
      },
      "outputs": [],
      "source": [
        "Data_ops['Status'].unique()"
      ]
    },
    {
      "cell_type": "code",
      "execution_count": null,
      "metadata": {
        "colab": {
          "background_save": true
        },
        "id": "hNgCRu2lkvG0"
      },
      "outputs": [],
      "source": [
        "def Superseded (it) :\n",
        "  if it['Status'] == \"Superseded\" :\n",
        "    return \"Please delete if temination contract\"\n",
        "  else :\n",
        "    return \"Include\"\n",
        "\n",
        "Data_ops['Superseded Check'] = Data_ops.apply (Superseded,axis = 1)\n",
        "Data_ops \n"
      ]
    },
    {
      "cell_type": "markdown",
      "metadata": {
        "id": "-RWcM2Ydkv5L"
      },
      "source": [
        "## 2.4 Creator Check \n",
        "(Exclude Kevin and Admins Entry)"
      ]
    },
    {
      "cell_type": "code",
      "execution_count": null,
      "metadata": {
        "colab": {
          "background_save": true
        },
        "id": "BTZ55w7K89xj"
      },
      "outputs": [],
      "source": [
        "def Creator_Check (ite) :\n",
        "  if ite['Created By'] == \"Kevin Wijaya\" or ite['Created By'] == \"CLM Admin\" :\n",
        "    return \"Exclude\"\n",
        "  else :\n",
        "    return \"Include\"\n",
        "\n",
        "Data_ops['Creator Check'] =  Data_ops.apply(Creator_Check,axis =1)\n"
      ]
    },
    {
      "cell_type": "code",
      "execution_count": null,
      "metadata": {
        "colab": {
          "background_save": true
        },
        "id": "jkuUh_SSCISi"
      },
      "outputs": [],
      "source": [
        "Data_ops.drop(Data_ops.loc[Data_ops['Created By']=='Kevin Wijaya'].index,inplace = True)\n",
        "Data_ops.drop(Data_ops.loc[Data_ops['Created By']=='CLM Admin'].index, inplace = True)"
      ]
    },
    {
      "cell_type": "code",
      "execution_count": null,
      "metadata": {
        "colab": {
          "background_save": true
        },
        "id": "h6C4vClsGTED"
      },
      "outputs": [],
      "source": [
        "Data_ops['Created By'].unique()"
      ]
    },
    {
      "cell_type": "markdown",
      "metadata": {
        "id": "vEVQD6IflkfS"
      },
      "source": [
        "## 2.5 Contract Status Classification"
      ]
    },
    {
      "cell_type": "code",
      "execution_count": null,
      "metadata": {
        "colab": {
          "background_save": true
        },
        "id": "bs4rKYioDQPC"
      },
      "outputs": [],
      "source": [
        "def Status_clas (iter) :\n",
        "  if iter['Status'] == \"Executed\" or iter['Status'] == \"Expired\" or iter['Status'] == \"Reviewed\" or iter['Status'] == \"Superseded\" :\n",
        "    return \"Executed\" \n",
        "  else :\n",
        "    return \"Unexecuted\"\n",
        "\n",
        "Data_ops['Contract Status Classification'] = Data_ops.apply(Status_clas, axis= 1)"
      ]
    },
    {
      "cell_type": "markdown",
      "metadata": {
        "id": "UWv5_HeUlv8D"
      },
      "source": [
        "## 2.6 Month"
      ]
    },
    {
      "cell_type": "code",
      "execution_count": null,
      "metadata": {
        "colab": {
          "background_save": true
        },
        "id": "g_EMzfwZJ4gB"
      },
      "outputs": [],
      "source": [
        "Data_ops['Month'] =pd.DatetimeIndex(Data_ops['Created Date']).month\n",
        "\n",
        "def month (itera) :\n",
        "  if itera['Month'] == 1 :\n",
        "    return \"January\"\n",
        "  elif itera ['Month'] == 2 :\n",
        "    return \"February\"\n",
        "  elif itera ['Month'] == 3 :\n",
        "    return \"March\"\n",
        "  elif itera ['Month'] == 4 :\n",
        "    return \"April\"\n",
        "  elif itera ['Month'] == 5 :\n",
        "    return \"May\"\n",
        "  elif itera ['Month'] == 6 :\n",
        "    return \"June\"  \n",
        "  elif itera ['Month'] == 7 :\n",
        "    return \"July\"\n",
        "  elif itera ['Month'] == 8 :\n",
        "    return \"August\"\n",
        "  elif itera ['Month'] == 9 :\n",
        "    return \"September\"\n",
        "  elif itera ['Month'] == 10 :\n",
        "    return \"October\"\n",
        "  elif itera ['Month'] == 11 :\n",
        "    return \"November\"\n",
        "  elif itera ['Month'] == 12:\n",
        "    return \"December\"\n",
        "  else :\n",
        "    return \"-\"\n",
        "\n",
        "\n",
        "Data_ops['Month']  = Data_ops.apply(month,axis=1)"
      ]
    },
    {
      "cell_type": "markdown",
      "metadata": {
        "id": "fe4egiLbl6HV"
      },
      "source": [
        "## 2.7 Ongoing Duration (Days)"
      ]
    },
    {
      "cell_type": "code",
      "execution_count": null,
      "metadata": {
        "colab": {
          "background_save": true
        },
        "id": "F9c2SYCVlcWa"
      },
      "outputs": [],
      "source": [
        "today = pd.Timestamp.now('Asia/Bangkok')\n",
        "today = pd.to_datetime(today.strftime('%Y/%m/%d %H:%M:%S'))\n",
        "\n",
        "Data_ops['Ongoing Duration (Days'] = today - Data_ops['Created Date']\n",
        "Data_ops['Ongoing Duration (Days']= Data_ops['Ongoing Duration (Days'].dt.days.astype('int64')"
      ]
    },
    {
      "cell_type": "markdown",
      "metadata": {
        "id": "1KpeQgq-mX6k"
      },
      "source": [
        "## 2.8 Ongoing Duration (based on months)"
      ]
    },
    {
      "cell_type": "markdown",
      "metadata": {
        "id": "aYdRhGQk35wu"
      },
      "source": [
        "**Create Lookup**"
      ]
    },
    {
      "cell_type": "code",
      "execution_count": null,
      "metadata": {
        "colab": {
          "background_save": true
        },
        "id": "R1JvcujC34i3"
      },
      "outputs": [],
      "source": [
        "import datetime\n",
        "now = datetime.datetime.now()\n",
        "result = [now.strftime(\"%B\")]\n",
        "\n",
        "for _ in range(1, 6):\n",
        "    now = now.replace(day=1) - datetime.timedelta(days=1)\n",
        "    result.append(now.strftime(\"%B\"))\n",
        "    \n",
        "del result[0]"
      ]
    },
    {
      "cell_type": "code",
      "execution_count": null,
      "metadata": {
        "colab": {
          "background_save": true
        },
        "id": "IBIQMlde8gYS"
      },
      "outputs": [],
      "source": [
        "row = []\n",
        "for i in range(30,160,30):\n",
        "  row.append(i)\n",
        "\n",
        "Class = ['On Track',\n",
        "        'On Track',\n",
        "        '>60 Days',\n",
        "        '>90 Days',\n",
        "        '>120 Days']\n",
        "\n",
        "Lookup = pd.DataFrame({'Month': result,'Days on Going':row,'Classification':Class})"
      ]
    },
    {
      "cell_type": "markdown",
      "metadata": {
        "id": "kAoVMackFFL1"
      },
      "source": [
        "**Operation**"
      ]
    },
    {
      "cell_type": "code",
      "execution_count": null,
      "metadata": {
        "colab": {
          "background_save": true
        },
        "id": "-h7ZhJbVE6z3"
      },
      "outputs": [],
      "source": [
        "month_piv = Lookup[['Month','Classification']]"
      ]
    },
    {
      "cell_type": "code",
      "execution_count": null,
      "metadata": {
        "colab": {
          "background_save": true
        },
        "id": "I28tfWlf3oOj"
      },
      "outputs": [],
      "source": [
        "Data_ops = pd.merge(Data_ops,month_piv, on = 'Month',how='left')\n",
        "Data_ops = Data_ops.rename(columns ={'Classification':'On going Duration (Based on Month)'} )"
      ]
    },
    {
      "cell_type": "markdown",
      "metadata": {
        "id": "VYaJObgxmhwy"
      },
      "source": [
        "## 2.9 Ongoing Duration (Based on Actual date)"
      ]
    },
    {
      "cell_type": "code",
      "execution_count": null,
      "metadata": {
        "colab": {
          "background_save": true
        },
        "id": "d1bLVySNHTxT"
      },
      "outputs": [],
      "source": [
        "def actual1 (x) :\n",
        "  if x['Ongoing Duration (Days'] > 30 :\n",
        "    return Lookup['Classification'] [1:2]\n",
        "  elif x['Ongoing Duration (Days'] > 60 :\n",
        "    return Lookup['Classification'][:1]\n",
        "  else : \n",
        "    return \"On Track\"\n",
        "\n",
        "Data_ops['Ongoing Duration (Based on Actual date)'] = Data_ops.apply(actual1,axis=1)"
      ]
    },
    {
      "cell_type": "code",
      "execution_count": null,
      "metadata": {
        "colab": {
          "background_save": true
        },
        "id": "ERZfqAm-QMBh"
      },
      "outputs": [],
      "source": [
        "Data_ops.head(1)"
      ]
    },
    {
      "cell_type": "markdown",
      "metadata": {
        "id": "m1kPB8hmo2tO"
      },
      "source": [
        "# **3.Pivot Table of Cycle Time**"
      ]
    },
    {
      "cell_type": "code",
      "execution_count": null,
      "metadata": {
        "colab": {
          "background_save": true
        },
        "id": "1yY9nBrTMPMf"
      },
      "outputs": [],
      "source": [
        "Data_ops['Contractual Value'] = Data_ops['Contractual Value'].astype(str).str[:-3]\n",
        "Data_ops['Contractual Value'] = Data_ops['Contractual Value'].replace(',','',regex = True)\n",
        "Data_ops['Contractual Value'] = Data_ops['Contractual Value'].astype('int64')"
      ]
    },
    {
      "cell_type": "markdown",
      "metadata": {
        "id": "SeIOQY6qEdwr"
      },
      "source": [
        "## 3.1 Cycle Time Month"
      ]
    },
    {
      "cell_type": "code",
      "execution_count": null,
      "metadata": {
        "colab": {
          "background_save": true
        },
        "id": "qDWKpyPjLhk3"
      },
      "outputs": [],
      "source": [
        "Cycle_tim = pd.pivot_table(Data_ops,values = ['Agreement Title','Contractual Value'],\n",
        "                        index = ['Month','On going Duration (Based on Month)'],\n",
        "                        columns = 'Contract Status Classification',\n",
        "                        margins = True, margins_name = 'Grand Total',\n",
        "                        aggfunc = {'Agreement Title':'count', 'Contractual Value':sum}\n",
        "                        )"
      ]
    },
    {
      "cell_type": "code",
      "execution_count": null,
      "metadata": {
        "colab": {
          "background_save": true
        },
        "id": "0APM0bZGrahI"
      },
      "outputs": [],
      "source": [
        "Cycle_tim"
      ]
    },
    {
      "cell_type": "code",
      "execution_count": null,
      "metadata": {
        "colab": {
          "background_save": true
        },
        "id": "303yFE1dZN_t"
      },
      "outputs": [],
      "source": [
        "Cycle_tim_ex = Cycle_tim.reset_index()\n",
        "Cycle_tim_list = [Cycle_tim_ex.columns.to_list()] + Cycle_tim_ex.to_numpy().tolist()\n",
        "Cycle_tim_list[0] = ['Month','On going Duration (Based on Month)', 'Executed','Unexecuted','Grand Total','Executed','Unexecuted','Grand Total' ]"
      ]
    },
    {
      "cell_type": "markdown",
      "metadata": {
        "id": "V1qsBvJ2rdOJ"
      },
      "source": [
        "## 3.2 Average Duration per Month"
      ]
    },
    {
      "cell_type": "code",
      "execution_count": null,
      "metadata": {
        "colab": {
          "background_save": true
        },
        "id": "DlG3rg0VZfjt"
      },
      "outputs": [],
      "source": [
        "Data_ops['Month'].unique()"
      ]
    },
    {
      "cell_type": "code",
      "execution_count": null,
      "metadata": {
        "colab": {
          "background_save": true
        },
        "id": "lAupfH8hpA68"
      },
      "outputs": [],
      "source": [
        "Ave_dur = Data_ops.pivot_table(values = 'Ongoing Duration (Days', index = 'Month',margins=True,margins_name='Average', aggfunc = 'mean' )\n",
        "Ave_dur = Ave_dur.fillna(0)\n",
        "Ave_dur"
      ]
    },
    {
      "cell_type": "markdown",
      "metadata": {
        "id": "VPp3PpIPrnJ3"
      },
      "source": [
        "## 3.3 Average Cycle Time"
      ]
    },
    {
      "cell_type": "code",
      "execution_count": null,
      "metadata": {
        "colab": {
          "background_save": true
        },
        "id": "qxGDQsWeENMH"
      },
      "outputs": [],
      "source": [
        "Ave_cy = pd.pivot_table(Data_exe, values = ['Total Duration','Agreement Code'],\n",
        "                        index = ['Classification'],\n",
        "                        columns = ['Created Month'],\n",
        "                        margins = True, margins_name = 'Grand Total', fill_value = 0,\n",
        "                        aggfunc ={'Total Duration': np.mean, 'Agreement Code': 'count'}\n",
        "                         )\n",
        "Ave_cy"
      ]
    },
    {
      "cell_type": "code",
      "execution_count": null,
      "metadata": {
        "colab": {
          "background_save": true
        },
        "id": "R2NzZ_ZS1cYm"
      },
      "outputs": [],
      "source": [
        "List_month = Data_exe['Created Month'].unique().tolist()\n",
        "\n",
        "Ave = ['Classification']\n",
        "Ave.extend(List_month)\n",
        "Ave1 = ['Grand Total']\n",
        "Ave.extend(Ave1)\n",
        "Ave.extend (List_month)\n",
        "Ave2 = ['Grand Total']\n",
        "Ave.extend (Ave2)\n",
        "Ave"
      ]
    },
    {
      "cell_type": "code",
      "execution_count": null,
      "metadata": {
        "colab": {
          "background_save": true
        },
        "id": "Qgp_axlbxe7i"
      },
      "outputs": [],
      "source": [
        "Ave_cy_ex = Ave_cy.reset_index()\n",
        "Ave_cy_list = [Ave_cy_ex.columns.to_list()] + Ave_cy_ex.to_numpy().tolist()\n",
        "Ave_cy_list[0] = Ave"
      ]
    },
    {
      "cell_type": "markdown",
      "metadata": {
        "id": "AQ_bnntEuKeX"
      },
      "source": [
        "## 3.4 Average Duration Status per PIC"
      ]
    },
    {
      "cell_type": "code",
      "execution_count": null,
      "metadata": {
        "colab": {
          "background_save": true
        },
        "id": "sUip736wuRsc"
      },
      "outputs": [],
      "source": [
        "from numpy.ma.core import count\n",
        "\n",
        "Data_obs = Data_ops.copy()\n",
        "\n",
        "Data_obs.drop(Data_obs.loc[Data_obs['Status']=='Executed'].index,inplace = True)\n",
        "Data_obs.drop(Data_obs.loc[Data_obs['Status']=='Expired'].index,inplace = True)\n",
        "\n",
        "Data_obs['Status'].unique()\n",
        "ave_duration = pd.pivot_table(Data_obs,values = ['Agreement Title','Ongoing Duration (Days'], \n",
        "                              index = ['Status','Created By'],\n",
        "                              margins=True,margins_name='Average',fill_value=0,\n",
        "                              aggfunc = {'Agreement Title':'count','Ongoing Duration (Days':np.mean})\n",
        "ave_duration"
      ]
    },
    {
      "cell_type": "markdown",
      "metadata": {
        "id": "yrFgzxXV34v9"
      },
      "source": [
        "## **3.5 Unexecuted**"
      ]
    },
    {
      "cell_type": "code",
      "execution_count": null,
      "metadata": {
        "colab": {
          "background_save": true
        },
        "id": "c6E9MqwU4Bcm"
      },
      "outputs": [],
      "source": [
        "piv_unex = pd.pivot_table(Data_ops, values = 'Agreement Title',\n",
        "                          index= ['Regions', 'Created By','Status'],\n",
        "                          aggfunc='count' ,\n",
        "                          margins=True, margins_name='Total')"
      ]
    },
    {
      "cell_type": "code",
      "execution_count": null,
      "metadata": {
        "colab": {
          "background_save": true
        },
        "id": "5hlWk_Y0lE8J"
      },
      "outputs": [],
      "source": [
        "ave_duration"
      ]
    },
    {
      "cell_type": "markdown",
      "metadata": {
        "id": "jXTZLFUr94hG"
      },
      "source": [
        "# **4. Export To Google Sheet**"
      ]
    },
    {
      "cell_type": "markdown",
      "metadata": {
        "id": "AS1FjW0VKOpK"
      },
      "source": [
        "## **4.1 Rename File**"
      ]
    },
    {
      "cell_type": "code",
      "execution_count": null,
      "metadata": {
        "colab": {
          "background_save": true
        },
        "id": "_N6LAdlILHGq"
      },
      "outputs": [],
      "source": [
        "from datetime import date\n",
        "now = date.today()\n",
        "Now = now.strftime(\"%Y%m%d\")\n",
        "Now = Now[2:]\n",
        "rename_file = \"Cycle Time Analysis\"+\" \"+\"(\"+Now+\")\""
      ]
    },
    {
      "cell_type": "markdown",
      "metadata": {
        "id": "A5vxpqIt-Amn"
      },
      "source": [
        "## **4.2 Export Dataframe**"
      ]
    },
    {
      "cell_type": "markdown",
      "metadata": {
        "id": "lwS_4OCPCCS_"
      },
      "source": [
        "**Raw Contract 2022**"
      ]
    },
    {
      "cell_type": "code",
      "execution_count": null,
      "metadata": {
        "colab": {
          "background_save": true
        },
        "id": "mHu0BrMjDDCo"
      },
      "outputs": [],
      "source": [
        "Data_unex_raw = Data_unex_raw.fillna('')"
      ]
    },
    {
      "cell_type": "code",
      "execution_count": null,
      "metadata": {
        "colab": {
          "background_save": true
        },
        "id": "I0MvwYpKCIlz"
      },
      "outputs": [],
      "source": [
        "Update_data= gc.open_by_key('1Z8NS4mdnN46r7KdJW4ZaqlNGdnb0WQENXwz_3VyjaDM').worksheet(\"Raw Contract 2022\")\n",
        "Update_data.clear()\n",
        "Update_data.update('A1', [Data_unex_raw.columns.to_list()] + Data_unex_raw.to_numpy().tolist())"
      ]
    },
    {
      "cell_type": "markdown",
      "metadata": {
        "id": "v7U4HzmLB9ep"
      },
      "source": [
        "**Edit Contract 2022**"
      ]
    },
    {
      "cell_type": "code",
      "execution_count": null,
      "metadata": {
        "colab": {
          "background_save": true
        },
        "id": "Pp1_HeR8_nav"
      },
      "outputs": [],
      "source": [
        "convert = ['Created Date', 'Effective Date', 'Expiration Date']\n",
        "\n",
        "Data_ops[convert] = Data_ops[convert].astype('str')\n",
        "Data_ops = Data_ops.fillna('')"
      ]
    },
    {
      "cell_type": "code",
      "execution_count": null,
      "metadata": {
        "colab": {
          "background_save": true
        },
        "id": "XIiQim9S-g-J"
      },
      "outputs": [],
      "source": [
        "Update_data= gc.open_by_key('1Z8NS4mdnN46r7KdJW4ZaqlNGdnb0WQENXwz_3VyjaDM').worksheet(\"Edit Contract 2022\")\n",
        "Update_data.clear()\n",
        "Update_data.update('A1', [Data_ops.columns.to_list()] + Data_ops.to_numpy().tolist())"
      ]
    },
    {
      "cell_type": "markdown",
      "metadata": {
        "id": "gTkveW6yHRdJ"
      },
      "source": [
        "**Lookup**"
      ]
    },
    {
      "cell_type": "code",
      "execution_count": null,
      "metadata": {
        "colab": {
          "background_save": true
        },
        "id": "8cg5R_T4HTrU"
      },
      "outputs": [],
      "source": [
        "Update_data= gc.open_by_key('1Z8NS4mdnN46r7KdJW4ZaqlNGdnb0WQENXwz_3VyjaDM').worksheet(\"Lookup\")\n",
        "Update_data.clear()\n",
        "Update_data.update('A1', [Lookup.columns.to_list()] + Lookup.to_numpy().tolist())"
      ]
    },
    {
      "cell_type": "markdown",
      "metadata": {
        "id": "q-YpSTpp3TqN"
      },
      "source": [
        "**Compyle Cycle**"
      ]
    },
    {
      "cell_type": "code",
      "execution_count": null,
      "metadata": {
        "colab": {
          "background_save": true
        },
        "id": "6snOltpg3Sks"
      },
      "outputs": [],
      "source": [
        "Update_data= gc.open_by_key('1Z8NS4mdnN46r7KdJW4ZaqlNGdnb0WQENXwz_3VyjaDM').worksheet(\"Compyle Cycle\")\n",
        "Update_data.clear()\n",
        "Update_data.update('A1',[Data_exe.columns.to_list()] + Data_exe.to_numpy().tolist())"
      ]
    },
    {
      "cell_type": "markdown",
      "metadata": {
        "id": "7Lz_Egff-J5Q"
      },
      "source": [
        "## **4.3 Export Pivottable**"
      ]
    },
    {
      "cell_type": "code",
      "execution_count": null,
      "metadata": {
        "colab": {
          "background_save": true
        },
        "id": "0JXGfv1mi3d1"
      },
      "outputs": [],
      "source": [
        "Ave_dur_ex             =   Ave_dur.reset_index()\n",
        "ave_duration_ex        =   ave_duration.reset_index()\n",
        "piv_unex_ex            =   piv_unex.reset_index()"
      ]
    },
    {
      "cell_type": "code",
      "execution_count": null,
      "metadata": {
        "colab": {
          "background_save": true
        },
        "id": "glsS5M8U9-2A"
      },
      "outputs": [],
      "source": [
        "Update_data= gc.open_by_key('1Z8NS4mdnN46r7KdJW4ZaqlNGdnb0WQENXwz_3VyjaDM').worksheet(\"Pivot\")\n",
        "Update_data.clear()\n",
        "Update_data.update('A1', rename_file)\n",
        "\n",
        "Update_data.update('B3', [['Cycle Time Month']])\n",
        "Update_data.update('B5', Cycle_tim_list)\n",
        "Update_data.update('D4', [['Agreement Title']])\n",
        "Update_data.update('G4', [['Contractual Value']])\n",
        "\n",
        "Update_data.update('G13', [['Average Duration per Month']])\n",
        "Update_data.update('G14', [Ave_dur_ex.columns.to_list()]+ Ave_dur_ex.to_numpy().tolist())\n",
        "\n",
        "Update_data.update('L3',[['Average Cycle Time']])\n",
        "Update_data.update('L5', Ave_cy_list)\n",
        "Update_data.update('M4',[['Agreement Code']])\n",
        "Update_data.update('Q4',[['Total Duration']])\n",
        "\n",
        "Update_data.update('G21', [['Average Duration Status per PIC']])\n",
        "Update_data.update('G22', [ave_duration_ex.columns.to_list()] + ave_duration_ex.to_numpy().tolist())\n",
        "\n",
        "Update_data.update('B13', [['Pivot Unexecuted']])\n",
        "Update_data.update('B14', [piv_unex_ex.columns.to_list()] + piv_unex_ex.to_numpy().tolist())"
      ]
    }
  ],
  "metadata": {
    "colab": {
      "collapsed_sections": [
        "xW4mEV6pir0q",
        "Z129HBr2jFYN",
        "UWv5_HeUlv8D",
        "m1kPB8hmo2tO",
        "jXTZLFUr94hG",
        "AS1FjW0VKOpK"
      ],
      "name": "Time Cycle Analysis.ipynb",
      "provenance": []
    },
    "kernelspec": {
      "display_name": "Python 3",
      "name": "python3"
    },
    "language_info": {
      "name": "python"
    }
  },
  "nbformat": 4,
  "nbformat_minor": 0
}